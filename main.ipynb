{
 "cells": [
  {
   "cell_type": "code",
   "execution_count": 3,
   "id": "871a2d5e",
   "metadata": {},
   "outputs": [
    {
     "name": "stderr",
     "output_type": "stream",
     "text": [
      "c:\\Users\\anndy\\OneDrive\\Desktop\\gst_1168621_3_2025_2\\myenv\\Lib\\site-packages\\openpyxl\\styles\\stylesheet.py:237: UserWarning: Workbook contains no default style, apply openpyxl's default\n",
      "  warn(\"Workbook contains no default style, apply openpyxl's default\")\n",
      "c:\\Users\\anndy\\OneDrive\\Desktop\\gst_1168621_3_2025_2\\myenv\\Lib\\site-packages\\openpyxl\\styles\\stylesheet.py:237: UserWarning: Workbook contains no default style, apply openpyxl's default\n",
      "  warn(\"Workbook contains no default style, apply openpyxl's default\")\n"
     ]
    }
   ],
   "source": [
    "import pandas as pd\n",
    "\n",
    "# Excel files load kar le\n",
    "a = pd.read_excel(\"tcs_sales.xlsx\")\n",
    "b = pd.read_excel(\"tcs_sales_return.xlsx\")\n",
    "\n",
    "# Common column ka naam bata (maan lete hain 'ID' hai)\n",
    "# Phir b mein jo IDs hain unko a se hata dena hai\n",
    "filtered = a[~a['sub_order_num'].isin(b['sub_order_num'])]\n",
    "\n",
    "# Result ko new file me save kar de\n",
    "filtered.to_excel(\"filtered_tcs.xlsx\", index=False)\n"
   ]
  },
  {
   "cell_type": "code",
   "execution_count": 5,
   "id": "73d296e7",
   "metadata": {},
   "outputs": [],
   "source": [
    "import pandas as pd\n",
    "\n",
    "# Load the filtered file\n",
    "df = pd.read_excel(\"filtered_tcs.xlsx\")\n",
    "\n",
    "# Group by state and sum taxable sale value\n",
    "summary = df.groupby('end_customer_state_new')['total_taxable_sale_value'].sum().reset_index()\n",
    "\n",
    "# Optional: sort by value descending\n",
    "summary = summary.sort_values(by='total_taxable_sale_value', ascending=False)\n",
    "\n",
    "# Save the summary to a new Excel file\n",
    "summary.to_excel(\"statewise_taxable_summary.xlsx\", index=False)\n"
   ]
  }
 ],
 "metadata": {
  "kernelspec": {
   "display_name": "myenv",
   "language": "python",
   "name": "python3"
  },
  "language_info": {
   "codemirror_mode": {
    "name": "ipython",
    "version": 3
   },
   "file_extension": ".py",
   "mimetype": "text/x-python",
   "name": "python",
   "nbconvert_exporter": "python",
   "pygments_lexer": "ipython3",
   "version": "3.12.1"
  }
 },
 "nbformat": 4,
 "nbformat_minor": 5
}
